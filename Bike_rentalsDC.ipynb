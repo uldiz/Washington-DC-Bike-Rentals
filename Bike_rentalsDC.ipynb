{
 "cells": [
  {
   "cell_type": "code",
   "execution_count": 590,
   "metadata": {
    "collapsed": false
   },
   "outputs": [
    {
     "name": "stdout",
     "output_type": "stream",
     "text": [
      "   instant      dteday  season  yr  mnth  hr  holiday  weekday  workingday  \\\n",
      "0        1  2011-01-01       1   0     1   0        0        6           0   \n",
      "1        2  2011-01-01       1   0     1   1        0        6           0   \n",
      "2        3  2011-01-01       1   0     1   2        0        6           0   \n",
      "3        4  2011-01-01       1   0     1   3        0        6           0   \n",
      "4        5  2011-01-01       1   0     1   4        0        6           0   \n",
      "5        6  2011-01-01       1   0     1   5        0        6           0   \n",
      "\n",
      "   weathersit  temp   atemp   hum  windspeed  casual  registered  cnt  \n",
      "0           1  0.24  0.2879  0.81     0.0000       3          13   16  \n",
      "1           1  0.22  0.2727  0.80     0.0000       8          32   40  \n",
      "2           1  0.22  0.2727  0.80     0.0000       5          27   32  \n",
      "3           1  0.24  0.2879  0.75     0.0000       3          10   13  \n",
      "4           1  0.24  0.2879  0.75     0.0000       0           1    1  \n",
      "5           2  0.24  0.2576  0.75     0.0896       0           1    1  \n",
      "<class 'pandas.core.frame.DataFrame'>\n",
      "RangeIndex: 17379 entries, 0 to 17378\n",
      "Data columns (total 17 columns):\n",
      "instant       17379 non-null int64\n",
      "dteday        17379 non-null object\n",
      "season        17379 non-null int64\n",
      "yr            17379 non-null int64\n",
      "mnth          17379 non-null int64\n",
      "hr            17379 non-null int64\n",
      "holiday       17379 non-null int64\n",
      "weekday       17379 non-null int64\n",
      "workingday    17379 non-null int64\n",
      "weathersit    17379 non-null int64\n",
      "temp          17379 non-null float64\n",
      "atemp         17379 non-null float64\n",
      "hum           17379 non-null float64\n",
      "windspeed     17379 non-null float64\n",
      "casual        17379 non-null int64\n",
      "registered    17379 non-null int64\n",
      "cnt           17379 non-null int64\n",
      "dtypes: float64(4), int64(12), object(1)\n",
      "memory usage: 2.3+ MB\n",
      "None\n"
     ]
    }
   ],
   "source": [
    "import pandas as pd\n",
    "import numpy as np\n",
    "import matplotlib.pyplot as plt\n",
    "import seaborn as sns\n",
    "from sklearn.linear_model import LinearRegression\n",
    "from sklearn.metrics import mean_squared_error\n",
    "from sklearn.tree import DecisionTreeRegressor\n",
    "from sklearn.ensemble import RandomForestRegressor\n",
    "%matplotlib inline\n",
    "\n",
    "np.random.seed(123)\n",
    "\n",
    "bike_rentals = pd.read_csv(\"bike_rental_hour.csv\")\n",
    "print(bike_rentals.head(n=6))\n",
    "print(bike_rentals.info())"
   ]
  },
  {
   "cell_type": "code",
   "execution_count": 591,
   "metadata": {
    "collapsed": false
   },
   "outputs": [
    {
     "data": {
      "image/png": "[encoded data removed]",
      "text/plain": [
       "<matplotlib.figure.Figure at 0x7f331881acc0>"
      ]
     },
     "metadata": {},
     "output_type": "display_data"
    }
   ],
   "source": [
    "sns.set_color_codes()\n",
    "sns.distplot(bike_rentals[\"cnt\"], kde=False, color=\"r\")\n",
    "plt.show()"
   ]
  },
  {
   "cell_type": "code",
   "execution_count": 592,
   "metadata": {
    "collapsed": false
   },
   "outputs": [
    {
     "name": "stdout",
     "output_type": "stream",
     "text": [
      "cnt           1.000000\n",
      "registered    0.972151\n",
      "casual        0.694564\n",
      "temp          0.404772\n",
      "atemp         0.400929\n",
      "hr            0.394071\n",
      "hum           0.322911\n",
      "instant       0.278379\n",
      "yr            0.250495\n",
      "season        0.178056\n",
      "weathersit    0.142426\n",
      "mnth          0.120638\n",
      "windspeed     0.093234\n",
      "holiday       0.030927\n",
      "workingday    0.030284\n",
      "weekday       0.026900\n",
      "Name: cnt, dtype: float64\n"
     ]
    }
   ],
   "source": [
    "\n",
    "corr_matrix = bike_rentals.corr()\n",
    "corr_cnt = np.abs(corr_matrix[\"cnt\"])\n",
    "corr_cnt.sort_values(inplace=True, ascending=False)\n",
    "print(corr_cnt)\n"
   ]
  },
  {
   "cell_type": "code",
   "execution_count": 593,
   "metadata": {
    "collapsed": false
   },
   "outputs": [],
   "source": [
    "def assign_label(df):\n",
    "    if df[\"hr\"] > 6 and df[\"hr\"] <= 12:\n",
    "        return 1\n",
    "    elif df[\"hr\"] > 12 and df[\"hr\"] <= 18:\n",
    "        return 2\n",
    "    elif df[\"hr\"] > 18 and df[\"hr\"] <= 24:\n",
    "        return 3\n",
    "    elif df[\"hr\"] > 0 and df[\"hr\"] <= 6:\n",
    "        return 4\n",
    "\n",
    "def assign_season(df):\n",
    "    if df[\"mnth\"] == 12 or (df[\"mnth\"] >= 1 and df[\"mnth\"] < 3):\n",
    "        return 1\n",
    "    elif df[\"mnth\"] >= 3 and df[\"mnth\"] < 6:\n",
    "        return 2\n",
    "    elif df[\"mnth\"] >= 6 and df[\"mnth\"] < 9:\n",
    "        return 3\n",
    "    elif df[\"mnth\"] >= 9 and df[\"mnth\"] <= 11:\n",
    "        return 4\n",
    "    \n",
    "bike_rentals[\"time_label\"] = bike_rentals.apply(assign_label, axis=1) \n",
    "\n",
    "bike_rentals[\"season_label\"] = bike_rentals.apply(assign_season, axis=1)\n",
    "columns.append(\"time_label\")\n",
    "columns.append(\"season_label\")\n"
   ]
  },
  {
   "cell_type": "code",
   "execution_count": 594,
   "metadata": {
    "collapsed": false
   },
   "outputs": [
    {
     "name": "stdout",
     "output_type": "stream",
     "text": [
      "missing time labels: 726\n"
     ]
    },
    {
     "data": {
      "image/png": "[encoded data removed]",
      "text/plain": [
       "<matplotlib.figure.Figure at 0x7f331888c978>"
      ]
     },
     "metadata": {},
     "output_type": "display_data"
    }
   ],
   "source": [
    "print('missing time labels:', bike_rentals[\"time_label\"].isnull().sum())\n",
    "time_labels = bike_rentals[\"time_label\"].dropna()\n",
    "\n",
    "sns.distplot(time_labels, kde=False, color=\"r\")\n",
    "plt.show()"
   ]
  },
  {
   "cell_type": "code",
   "execution_count": 595,
   "metadata": {
    "collapsed": false
   },
   "outputs": [
    {
     "name": "stdout",
     "output_type": "stream",
     "text": [
      "<class 'pandas.core.frame.DataFrame'>\n",
      "Int64Index: 16653 entries, 1 to 17378\n",
      "Data columns (total 19 columns):\n",
      "instant         16653 non-null int64\n",
      "dteday          16653 non-null object\n",
      "season          16653 non-null int64\n",
      "yr              16653 non-null int64\n",
      "mnth            16653 non-null int64\n",
      "hr              16653 non-null int64\n",
      "holiday         16653 non-null int64\n",
      "weekday         16653 non-null int64\n",
      "workingday      16653 non-null int64\n",
      "weathersit      16653 non-null int64\n",
      "temp            16653 non-null float64\n",
      "atemp           16653 non-null float64\n",
      "hum             16653 non-null float64\n",
      "windspeed       16653 non-null float64\n",
      "casual          16653 non-null int64\n",
      "registered      16653 non-null int64\n",
      "cnt             16653 non-null int64\n",
      "time_label      16653 non-null float64\n",
      "season_label    16653 non-null int64\n",
      "dtypes: float64(5), int64(13), object(1)\n",
      "memory usage: 2.5+ MB\n",
      "None\n",
      "(16653, 19)\n"
     ]
    }
   ],
   "source": [
    "bike_rentals = bike_rentals.dropna()\n",
    "print(bike_rentals.info())\n",
    "print(bike_rentals.shape)\n"
   ]
  },
  {
   "cell_type": "code",
   "execution_count": 596,
   "metadata": {
    "collapsed": false
   },
   "outputs": [],
   "source": [
    "def create_dummies(df, column):\n",
    "    dummy_df = pd.get_dummies(df[column], prefix=column)\n",
    "    df = pd.concat([df, dummy_df], axis=1)\n",
    "    df.drop(col, axis=1, inplace=True)\n",
    "    return df\n",
    "\n",
    "for col in [\"time_label\", \"season_label\", \"weekday\"]:\n",
    "    bike_rentals = create_dummies(bike_rentals, col)\n",
    "\n",
    "\n",
    "columns = bike_rentals.columns.tolist()"
   ]
  },
  {
   "cell_type": "code",
   "execution_count": 597,
   "metadata": {
    "collapsed": false
   },
   "outputs": [
    {
     "name": "stdout",
     "output_type": "stream",
     "text": [
      "cnt               1.000000\n",
      "time_label_4.0    0.535941\n",
      "time_label_2.0    0.420453\n",
      "atemp             0.405355\n",
      "hum               0.321931\n",
      "season_label_1    0.232574\n",
      "season            0.181559\n",
      "season_label_3    0.154384\n",
      "weathersit        0.146702\n",
      "time_label_1.0    0.137591\n",
      "windspeed         0.089449\n",
      "season_label_4    0.077887\n",
      "holiday           0.032143\n",
      "weekday_0         0.032047\n",
      "time_label_3.0    0.027676\n",
      "weekday_4         0.017594\n",
      "weekday_5         0.015724\n",
      "weekday_1         0.011165\n",
      "weekday_2         0.006415\n",
      "weekday_3         0.005851\n",
      "weekday_6         0.002203\n",
      "season_label_2    0.001931\n",
      "Name: cnt, dtype: float64\n"
     ]
    }
   ],
   "source": [
    "leftout_columns = [\"cnt\", \"casual\", \"workingday\", \"dteday\", \"registered\", \"temp\", \"instant\", \"yr\", \"mnth\", \"hr\", \"time_label\", \"season_label\", \"weekday\"]\n",
    "\n",
    "predictor_columns = [col for col in columns if col not in leftout_columns]\n",
    "target = \"cnt\"\n",
    "bike_rentals_columns = predictor_columns.append(target)\n",
    "\n",
    "\n",
    "corr_matrix = bike_rentals[predictor_columns].corr()\n",
    "corr_cnt = np.abs(corr_matrix[\"cnt\"])\n",
    "corr_cnt.sort_values(inplace=True, ascending=False)\n",
    "print(corr_cnt)\n",
    "\n",
    "\n",
    "predictor_columns = corr_cnt[1:10].index.tolist()\n",
    "target = \"cnt\""
   ]
  },
  {
   "cell_type": "code",
   "execution_count": 598,
   "metadata": {
    "collapsed": false
   },
   "outputs": [
    {
     "name": "stdout",
     "output_type": "stream",
     "text": [
      "131.793308076\n"
     ]
    }
   ],
   "source": [
    "train_proportion = .8\n",
    "\n",
    "train = bike_rentals.sample(frac=train_proportion, replace=False)\n",
    "test = bike_rentals.loc[~bike_rentals.index.isin(train.index)]\n",
    "\n",
    "\n",
    "linear_model = LinearRegression()\n",
    "\n",
    "linear_model.fit(train[predictor_columns], train[target])\n",
    "predictions = linear_model.predict(test[predictor_columns])\n",
    "rmse = np.sqrt(mean_squared_error(test[target], predictions))\n",
    "print(rmse)\n"
   ]
  },
  {
   "cell_type": "code",
   "execution_count": 599,
   "metadata": {
    "collapsed": false
   },
   "outputs": [
    {
     "name": "stdout",
     "output_type": "stream",
     "text": [
      "131.579918373\n"
     ]
    }
   ],
   "source": [
    "dtr = DecisionTreeRegressor(min_samples_leaf=5)\n",
    "\n",
    "dtr.fit(train[predictor_columns], train[target])\n",
    "predictions = dtr.predict(test[predictor_columns])\n",
    "rmse_dec_tree = np.sqrt(np.mean((predictions - test[\"cnt\"])**2))\n",
    "print(rmse_dec_tree)"
   ]
  },
  {
   "cell_type": "code",
   "execution_count": 600,
   "metadata": {
    "collapsed": false
   },
   "outputs": [
    {
     "name": "stdout",
     "output_type": "stream",
     "text": [
      "131.543315065\n"
     ]
    }
   ],
   "source": [
    "dtr = DecisionTreeRegressor(min_samples_split=2, min_samples_leaf=5)\n",
    "\n",
    "dtr.fit(train[predictor_columns], train[target])\n",
    "predictions = dtr.predict(test[predictor_columns])\n",
    "rmse_dec_tree = np.sqrt(np.mean((predictions - test[\"cnt\"])**2))\n",
    "print(rmse_dec_tree)"
   ]
  },
  {
   "cell_type": "code",
   "execution_count": 601,
   "metadata": {
    "collapsed": false
   },
   "outputs": [
    {
     "name": "stdout",
     "output_type": "stream",
     "text": [
      "124.629274294\n"
     ]
    }
   ],
   "source": [
    "rf_model = RandomForestRegressor(min_samples_leaf=5)\n",
    "\n",
    "rf_model.fit(train[predictor_columns], train[target])\n",
    "predictions = rf_model.predict(test[predictor_columns])\n",
    "rmse_random_forest = np.sqrt(np.mean((predictions - test[\"cnt\"])**2))\n",
    "print(rmse_random_forest)"
   ]
  },
  {
   "cell_type": "code",
   "execution_count": 602,
   "metadata": {
    "collapsed": false
   },
   "outputs": [
    {
     "name": "stdout",
     "output_type": "stream",
     "text": [
      "123.82859858\n"
     ]
    }
   ],
   "source": [
    "rf_model = RandomForestRegressor(min_samples_split=2, min_samples_leaf=5)\n",
    "\n",
    "rf_model.fit(train[predictor_columns], train[target])\n",
    "predictions = rf_model.predict(test[predictor_columns])\n",
    "rmse_random_forest = np.sqrt(np.mean((predictions - test[\"cnt\"])**2))\n",
    "print(rmse_random_forest)"
   ]
  },
  {
   "cell_type": "code",
   "execution_count": 603,
   "metadata": {
    "collapsed": false
   },
   "outputs": [
    {
     "name": "stdout",
     "output_type": "stream",
     "text": [
      "123.401794562\n"
     ]
    }
   ],
   "source": [
    "rf_model = RandomForestRegressor(min_samples_split=4, min_samples_leaf=10)\n",
    "\n",
    "rf_model.fit(train[predictor_columns], train[target])\n",
    "predictions = rf_model.predict(test[predictor_columns])\n",
    "rmse_random_forest = np.sqrt(np.mean((predictions - test[\"cnt\"])**2))\n",
    "print(rmse_random_forest)"
   ]
  },
  {
   "cell_type": "code",
   "execution_count": 604,
   "metadata": {
    "collapsed": false
   },
   "outputs": [
    {
     "name": "stdout",
     "output_type": "stream",
     "text": [
      "[  11.83844081  214.83202462  204.72830098   91.01124754  126.25144464\n",
      "   23.20424945   12.92600076  156.03482938  101.48672958  147.04144669]\n",
      "----------\n",
      "2      32\n",
      "14    106\n",
      "17     67\n",
      "18     35\n",
      "23     39\n",
      "28      3\n",
      "29      2\n",
      "31      8\n",
      "39     76\n",
      "40     65\n",
      "Name: cnt, dtype: int64\n"
     ]
    }
   ],
   "source": [
    "print(predictions[:10])\n",
    "print(\"-\"*10)\n",
    "print(test[\"cnt\"].iloc[:10])"
   ]
  }
 ],
 "metadata": {
  "kernelspec": {
   "display_name": "Python 3",
   "language": "python",
   "name": "python3"
  },
  "language_info": {
   "codemirror_mode": {
    "name": "ipython",
    "version": 3
   },
   "file_extension": ".py",
   "mimetype": "text/x-python",
   "name": "python",
   "nbconvert_exporter": "python",
   "pygments_lexer": "ipython3",
   "version": "3.4.3"
  }
 },
 "nbformat": 4,
 "nbformat_minor": 0
}
